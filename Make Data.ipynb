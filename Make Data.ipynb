{
 "cells": [
  {
   "cell_type": "code",
   "execution_count": 4,
   "id": "e52fc080",
   "metadata": {},
   "outputs": [
    {
     "name": "stdout",
     "output_type": "stream",
     "text": [
      "Downloading and preparing dataset wikitext/wikitext-2-v1 (download: 4.27 MiB, generated: 12.71 MiB, post-processed: Unknown size, total: 16.97 MiB) to /home/leander/.cache/huggingface/datasets/wikitext/wikitext-2-v1/1.0.0/a241db52902eaf2c6aa732210bead40c090019a499ceb13bcbfa3f8ab646a126...\n"
     ]
    },
    {
     "data": {
      "application/vnd.jupyter.widget-view+json": {
       "model_id": "b327205b1fc84b9483d38e89b566f015",
       "version_major": 2,
       "version_minor": 0
      },
      "text/plain": [
       "Downloading data:   0%|          | 0.00/4.48M [00:00<?, ?B/s]"
      ]
     },
     "metadata": {},
     "output_type": "display_data"
    },
    {
     "data": {
      "application/vnd.jupyter.widget-view+json": {
       "model_id": "",
       "version_major": 2,
       "version_minor": 0
      },
      "text/plain": [
       "Generating test split:   0%|          | 0/4358 [00:00<?, ? examples/s]"
      ]
     },
     "metadata": {},
     "output_type": "display_data"
    },
    {
     "data": {
      "application/vnd.jupyter.widget-view+json": {
       "model_id": "",
       "version_major": 2,
       "version_minor": 0
      },
      "text/plain": [
       "Generating train split:   0%|          | 0/36718 [00:00<?, ? examples/s]"
      ]
     },
     "metadata": {},
     "output_type": "display_data"
    },
    {
     "data": {
      "application/vnd.jupyter.widget-view+json": {
       "model_id": "",
       "version_major": 2,
       "version_minor": 0
      },
      "text/plain": [
       "Generating validation split:   0%|          | 0/3760 [00:00<?, ? examples/s]"
      ]
     },
     "metadata": {},
     "output_type": "display_data"
    },
    {
     "name": "stdout",
     "output_type": "stream",
     "text": [
      "Dataset wikitext downloaded and prepared to /home/leander/.cache/huggingface/datasets/wikitext/wikitext-2-v1/1.0.0/a241db52902eaf2c6aa732210bead40c090019a499ceb13bcbfa3f8ab646a126. Subsequent calls will reuse this data.\n"
     ]
    },
    {
     "data": {
      "application/vnd.jupyter.widget-view+json": {
       "model_id": "b0e8b03f277141b981b401de515a44a2",
       "version_major": 2,
       "version_minor": 0
      },
      "text/plain": [
       "  0%|          | 0/3 [00:00<?, ?it/s]"
      ]
     },
     "metadata": {},
     "output_type": "display_data"
    }
   ],
   "source": [
    "from datasets import load_dataset\n",
    "\n",
    "dataset = load_dataset(\"wikitext\", \"wikitext-2-v1\")"
   ]
  },
  {
   "cell_type": "code",
   "execution_count": 13,
   "id": "d494d847",
   "metadata": {},
   "outputs": [],
   "source": [
    "import nltk"
   ]
  },
  {
   "cell_type": "code",
   "execution_count": 31,
   "id": "0949b339",
   "metadata": {},
   "outputs": [],
   "source": [
    "train_sentences = []\n",
    "\n",
    "for text in dataset[\"train\"]:\n",
    "    train_sentences.extend(nltk.sent_tokenize(text[\"text\"]))\n",
    "    \n",
    "train_sentences = [sentence.lower().strip().split() for sentence in train_sentences if sentence.strip()]\n",
    "sentence_lengths = [len(sentence) for sentence in train_sentences]\n",
    "\n",
    "min_length, max_length = np.quantile(sentence_lengths, q=(0.05, 0.95))\n",
    "min_length = round(min_length)\n",
    "max_length = round(max_length)\n",
    "\n",
    "train_sentences = [sentence for sentence in train_sentences if min_length <= len(sentence) <= max_length]"
   ]
  },
  {
   "cell_type": "code",
   "execution_count": 32,
   "id": "74a57516",
   "metadata": {},
   "outputs": [],
   "source": [
    "from collections import Counter"
   ]
  },
  {
   "cell_type": "code",
   "execution_count": 33,
   "id": "4bbe64c4",
   "metadata": {},
   "outputs": [],
   "source": [
    "all_tokens = []\n",
    "\n",
    "for sentence in train_sentences:\n",
    "    all_tokens.extend(sentence)\n",
    "    \n",
    "token_counts = Counter(all_tokens)"
   ]
  },
  {
   "cell_type": "code",
   "execution_count": 38,
   "id": "3ab47a41",
   "metadata": {},
   "outputs": [],
   "source": [
    "vocab = set(list(sorted(token_counts.keys(), key=token_counts.get, reverse=True))[:10000])"
   ]
  },
  {
   "cell_type": "code",
   "execution_count": 39,
   "id": "fc4c0c35",
   "metadata": {},
   "outputs": [],
   "source": [
    "import os"
   ]
  },
  {
   "cell_type": "code",
   "execution_count": 40,
   "id": "a9dbee2b",
   "metadata": {},
   "outputs": [],
   "source": [
    "os.makedirs(\"data\", exist_ok=True)"
   ]
  },
  {
   "cell_type": "code",
   "execution_count": 41,
   "id": "ec581be2",
   "metadata": {},
   "outputs": [],
   "source": [
    "def write_split(split_name: str):\n",
    "    with open(f\"data/{split_name}.txt\", \"w\") as sf:\n",
    "        for text in dataset[split_name]:\n",
    "            text = text[\"text\"].lower().strip()\n",
    "            \n",
    "            sentences = nltk.sent_tokenize(text)\n",
    "            for sentence in sentences:\n",
    "                sentence = sentence.split()\n",
    "                if not sentence or not (min_length <= len(sentence) <= max_length):\n",
    "                    continue\n",
    "                \n",
    "                sentence = [(token if token in vocab else \"<unk>\") for token in sentence]\n",
    "                sf.write(\" \".join(sentence) + \"\\n\")"
   ]
  },
  {
   "cell_type": "code",
   "execution_count": 42,
   "id": "2bfc954d",
   "metadata": {},
   "outputs": [],
   "source": [
    "write_split(\"train\")\n",
    "write_split(\"test\")\n",
    "write_split(\"validation\")"
   ]
  }
 ],
 "metadata": {
  "kernelspec": {
   "display_name": "Python 3 (ipykernel)",
   "language": "python",
   "name": "python3"
  },
  "language_info": {
   "codemirror_mode": {
    "name": "ipython",
    "version": 3
   },
   "file_extension": ".py",
   "mimetype": "text/x-python",
   "name": "python",
   "nbconvert_exporter": "python",
   "pygments_lexer": "ipython3",
   "version": "3.9.12"
  }
 },
 "nbformat": 4,
 "nbformat_minor": 5
}
